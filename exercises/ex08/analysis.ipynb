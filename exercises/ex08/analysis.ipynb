{
 "cells": [
  {
   "cell_type": "markdown",
   "metadata": {},
   "source": [
    "# Analysis for Continuous Improvement\n",
    "\n",
    "Author Name: Arya Rao\n",
    "\n",
    "9-digit PID: 730478127\n",
    "\n",
    "Continuous Improvement embraces a belief there is _always room to make things better_. It is a mindset and process we value and practice in this course. In this assignment, you are able to practice continuous improvement and contribute to the design ideas of the course.\n",
    "\n",
    "## Brainstorming Ideas\n",
    "\n",
    "Reflect on your personal experiences and observations in COMP110 and **brainstorm modifications to the course that _create value_ beyond its current design**. When brainstorming, try not to be critical of the ideas you come up with regarding scale, stakeholders impacted, or for any other reasons. In the markdown cell below, brainstorm 3 to 5 ideas you think would create value for you.\n",
    "\n",
    "Each brainstormed idea should state a. the suggested change or addition, b. what the expected value created, and c. which specific stakeholders would benefit.  If helpful, expand on the following template \"The course should (state idea here) because it will (state value created here) for (insert stakeholders here).\"\n",
    "\n",
    "Example A: \"The course should use only examples from psychology experiments because it will be more relevant for students who are psychology majors.\"\n",
    "\n",
    "Example B: \"The course should not have post-lesson questions because they are not useful for most students in the class.\""
   ]
  },
  {
   "cell_type": "markdown",
   "metadata": {},
   "source": [
    "### Part 1. Creative Ideation\n",
    "\n",
    "1. The course should have a section dedicated to non-computer science majors and sections for computer science majors because it will allow the course to be more suitable for the needs of students and depth of content that would be useful for the future. \n",
    "2. The course should have more guidance in the exercises, such as a guided practice one to follow along with and then an exercise to try on your own, because it be helpful for students to give them some direction for the exercises. \n",
    "3. The course should use real-world examples within the coding lessons because many students in the class are not computer science majors so it would be more relevant for them. \n",
    "4. The course should not have lengthy videos for asynchronous days but rather more interactive lessons because they are not always helpful for most students if they do not fully grasp content from only watching a video. \n",
    "5. The course should offer an option to come to class in-person on Tuesdays in addition to Thursdays, where Tuesdays offer students a chance to work through the flipped classroom lessons in-person, because it would be useful for some students to hold themselves accountable to do the asynchronous lessons at a set time every week. "
   ]
  },
  {
   "cell_type": "markdown",
   "metadata": {},
   "source": [
    "## Connecting with Available Data\n",
    "\n",
    "The data you have available for this analysis is limited to the anonymized course survey you and your peers filled out a few weeks ago. The data is found in the `survey.csv` file in this exercise directory. Each row represents an individual survey response. Each column has a description which can be found on the project write-up here: <https://22s.comp110.com/exercises/ex08.html>\n",
    "\n",
    "Review the list of available data and identify which one of your ideas _does not_, or is _least likely to_, have relevant data to support the analysis of your idea to create value. In the box below, identify which of your ideas lacks data and suggest how we might be able to collect this data in the future. One aspect of _continuous improvement_ is trying to avoid \"tunnel vision\" where possible improvements are not considered because there is no data available to analyze it. Identifying new data sources can unlock improvements!"
   ]
  },
  {
   "cell_type": "markdown",
   "metadata": {},
   "source": [
    "### Part 2. Identifying Missing Data\n",
    "\n",
    "1. Idea without sufficient data to analyze: The course should have a section dedicated to non-computer science majors and sections for computer science majors because it will allow the course to be more suitable for the needs of students and depth of content that would be useful for the future. \n",
    "\n",
    "2. Suggestion for how to collect data to support this idea in the future: There could be two additional questions asked: one towards non-computer science majors if they feel that having a section that is a bit more simplified and relevant to other majors would be useful. The other question could be towards computer science majors asking if they would like to go more in depth on concepts so that they are more prepared for COMP 210. The responses to these questions could be useful in analyzing if students would prefer splitting up the sections by major. "
   ]
  },
  {
   "cell_type": "markdown",
   "metadata": {},
   "source": [
    "## Choosing an Idea to Analyze\n",
    "\n",
    "Consider those of your ideas which _do_ seem likely to have relevant data to analyze. If none of your ideas do, spend a few minutes and brainstorm another idea or two with the added connection of data available on hand and add those ideas to your brainstormed ideas list.\n",
    "\n",
    "Select the one idea which you believe is _most valuable_ to analyze relative to the others and has data to support the analysis of. In the markdown cell for Part 3 below, identify the idea you are exploring and articulate why you believe it is most valuable (e.g. widest impact, biggest opportunity for improvement, simplest change for significant improvement, and so on)."
   ]
  },
  {
   "cell_type": "markdown",
   "metadata": {},
   "source": [
    "### Part 3. Choosing Your Analysis\n",
    "\n",
    "1. Idea to analyze with available data: The course should offer an option to come to class in-person on Tuesdays in addition to Thursdays, where Tuesdays offer students a chance to work through the flipped classroom lessons in-person, because it would be useful for some students to hold themselves accountable to do the asynchronous lessons at a set time every week. \n",
    "\n",
    "2. This idea is more valuable than the others brainstormed because: I believe this idea is the most valuable because it could have significant impact on students' study habits. When taught virtually, students often do not pay as much attention and concepts can be difficult to understand from just watching a video. Having the option to come to a physical classroom and follow along with the lesson in a group setting where there are peers or TAs around to ask questions during the lessonn can be useful. It can also provide students with a routine of coming to class every week. \n"
   ]
  },
  {
   "cell_type": "markdown",
   "metadata": {},
   "source": [
    "## Your Analysis\n",
    "\n",
    "Before you begin analysis, a reminder that we do not expect the data to support everyone's ideas and you can complete this exercise for full credit even if the data does not clearly support your suggestion or even completely refutes it. What we are looking for is a logical attempt to explore the data using the techniques you have learned up until now in a way that _either_ supports, refutes, or does not have a clear result and then to reflect on your findings after the analysis.\n",
    "\n",
    "Using the utility functions you created for the previous exercise, you will continue with your analysis in the following part. Before you begin, refer to the rubric on the technical expectations of this section in the exercise write-up.\n",
    "\n",
    "In this section, you are expected to interleave code and markdown cells such that for each step of your analysis you are starting with an English description of what you are planning to do next in a markdown cell, followed by a Python cell that performs that step of the analysis."
   ]
  },
  {
   "cell_type": "markdown",
   "metadata": {},
   "source": [
    "### Part 4. Analysis\n",
    "\n",
    "We begin by changing some settings in the notebook to automatically reload changes to imported files."
   ]
  },
  {
   "cell_type": "code",
   "execution_count": 1,
   "metadata": {},
   "outputs": [],
   "source": [
    "%reload_ext autoreload\n",
    "%autoreload 2"
   ]
  },
  {
   "cell_type": "markdown",
   "metadata": {},
   "source": [
    "We continue by importing the helper functions from `data_utils`."
   ]
  },
  {
   "cell_type": "code",
   "execution_count": 1,
   "metadata": {},
   "outputs": [],
   "source": [
    "from data_utils import read_csv_rows, columnar, column_values, head, select, count"
   ]
  },
  {
   "cell_type": "markdown",
   "metadata": {},
   "source": [
    "Next, ... (you take it from here and add additional code and markdown cells to read in the CSV file and process it as needed)"
   ]
  },
  {
   "cell_type": "markdown",
   "metadata": {},
   "source": [
    "I used the read_csv_rows function first to convert the csv file into a \"table.\" From there, I utilized the columnar function and then the head function to just look at the first 20 survey responses. Finally, I implemented the select function in order to only look at the three questions I felt were most relevant to my analysis. I printed out this new table as a baseline to predict what patterns I may see when analyzing all of the rows/survey responses and just become more familiar with the responses I would be working with. "
   ]
  },
  {
   "cell_type": "code",
   "execution_count": 9,
   "metadata": {},
   "outputs": [
    {
     "name": "stdout",
     "output_type": "stream",
     "text": [
      "{'sync_perf': ['2', '3', '3', '5', '3', '2', '3', '2', '5', '2', '4', '2', '5', '2', '6', '2', '4', '1', '5', '1'], 'all_sync': ['2', '3', '4', '4', '3', '2', '3', '2', '4', '2', '3', '2', '3', '2', '5', '1', '2', '1', '5', '1'], 'flipped_class': ['1', '1', '2', '3', '3', '2', '5', '1', '6', '1', '7', '3', '4', '4', '3', '6', '1', '1', '6', '1']}\n"
     ]
    }
   ],
   "source": [
    "SURVEY_DATA_CSV_FILE_PATH: str = \"../../data/survey.csv\"\n",
    "survey_table = read_csv_rows(SURVEY_DATA_CSV_FILE_PATH)\n",
    "new_survey_table = columnar(survey_table)\n",
    "new_survey_table = head(new_survey_table, 20) \n",
    "new_survey_table = select(new_survey_table, [\"sync_perf\", \"all_sync\", \"flipped_class\"]) \n",
    "print(new_survey_table)\n"
   ]
  },
  {
   "cell_type": "markdown",
   "metadata": {},
   "source": [
    "Next, I implemented the column_values function for each of the three columns I analyzed: sync_perf, all_sync, and flipped_class. The sync_perf category asks students if their performance in class would be better if all of the lectures were synchronous. The all_sync question is in regards to students' preference on class being entirely synchronous. Finally, flipped_class questions if students would work on the asynchronous lessons over the weekend and come to class on Tuesday prepared to practice. Each of the three questions were rated on a scale of 1 to 7, with 1 being strongly disagree and 7 being strongly agree. \n",
    "\n",
    "The column_values function provided a list of all of the values for each column. I then used the count function to count how many times each value occurred in the column. I printed the count for each of the three questions to understand how many students chose each of the seven numbers on the scale. This enabled me to better analyze how students felt about classes becoming synchronous entirely. "
   ]
  },
  {
   "cell_type": "code",
   "execution_count": 10,
   "metadata": {},
   "outputs": [
    {
     "name": "stdout",
     "output_type": "stream",
     "text": [
      "{'2': 154, '3': 94, '5': 42, '4': 101, '6': 29, '1': 149, '7': 51}\n",
      "{'2': 155, '3': 71, '4': 85, '5': 44, '1': 201, '7': 39, '6': 25}\n",
      "{'1': 177, '2': 127, '3': 95, '5': 61, '6': 39, '7': 38, '4': 83}\n"
     ]
    }
   ],
   "source": [
    "sync_perf_list = column_values(survey_table, \"sync_perf\")\n",
    "all_sync_list = column_values(survey_table, \"all_sync\")\n",
    "flipped_class_list = column_values(survey_table, \"flipped_class\")\n",
    "sync_perf_count = count(sync_perf_list) \n",
    "all_sync_count = count(all_sync_list)\n",
    "flipped_class_count = count(flipped_class_list)\n",
    "print(sync_perf_count)\n",
    "print(all_sync_count)\n",
    "print(flipped_class_count) "
   ]
  },
  {
   "cell_type": "markdown",
   "metadata": {},
   "source": [
    "Finally, I created my own function to calculate the average of the lists created using the column_values function above. Thus, I could see the mode and mean for each question on a scale from 1 to 7. I then took these averages and created a dictionary to better convey the information. "
   ]
  },
  {
   "cell_type": "code",
   "execution_count": 11,
   "metadata": {},
   "outputs": [
    {
     "name": "stdout",
     "output_type": "stream",
     "text": [
      "{'sync_perf': 3.0387096774193547, 'all_sync': 2.753225806451613, 'flipped_class': 2.988709677419355}\n"
     ]
    }
   ],
   "source": [
    "def average(column_list: list[str]) -> float: \n",
    "    sum: int = 0\n",
    "    for item in column_list: \n",
    "        item = int(item)\n",
    "        sum += item\n",
    "    average: float = sum/len(column_list)\n",
    "    return average \n",
    "analysis_table: dict[str, float] = {\"sync_perf\": average(sync_perf_list), \"all_sync\": average(all_sync_list), \"flipped_class\": average(flipped_class_list)}\n",
    "print(analysis_table)"
   ]
  },
  {
   "cell_type": "code",
   "execution_count": 17,
   "metadata": {},
   "outputs": [],
   "source": [
    "import matplotlib.pyplot as plt "
   ]
  },
  {
   "cell_type": "code",
   "execution_count": 19,
   "metadata": {},
   "outputs": [
    {
     "data": {
      "image/png": "[encoded data removed]",
      "text/plain": [
       "<Figure size 432x288 with 1 Axes>"
      ]
     },
     "metadata": {
      "needs_background": "light"
     },
     "output_type": "display_data"
    }
   ],
   "source": [
    "scale = [1, 2, 3, 4, 5, 6, 7]\n",
    "count = [201, 155, 71, 85, 44, 25, 39] \n",
    "plt.bar(scale, count) \n",
    "plt.xlabel('Scale (Strongly Disagree to Agree: 1 to 7)') \n",
    "plt.ylabel('Count of Responses') \n",
    "plt.title('Student Responses on Synchronous Preference') \n",
    "    \n",
    "plt.show() "
   ]
  },
  {
   "cell_type": "markdown",
   "metadata": {},
   "source": [
    "## Conclusion\n",
    "\n",
    "In the following markdown cell, write a reflective conclusion given the analysis you performed and identify recommendations.\n",
    "\n",
    "If your analysis of the data supports your idea, state your recommendation for the change and summarize the data analysys results you found which support it. Additionally, describe any extensions or refinements to this idea which might be explored further. Finally, discuss the potential costs, trade-offs, or stakeholders who may be negatively impacted by this proposed change.\n",
    "\n",
    "If your analysis of the data is inconclusive, summarize why your data analysis results were inconclusive in the support of your idea. Additionally, describe what experimental idea implementation or additional data collection might help build more confidence in assessing your idea. Finally, discuss the potential costs, trade-offs, or stakeholders who may be negatively impacted by experimenting with your idea.\n",
    "\n",
    "Finally, if your analysis of the data does not support it, summarize your data analysis results and why it refutes your idea. Discuss the potential costs, trade-offs, or stakeholders who may be negatively impacted by this proposed change. If you disagree with the validity of the findings, describe why your idea still makes sense to implement and what alternative data would better support it. If you agree with the validity of the data analysis, describe what alternate ideas or extensions you would explore instead. "
   ]
  },
  {
   "cell_type": "markdown",
   "metadata": {},
   "source": [
    "### Part 5. Conclusion\n",
    "\n",
    "From my analysis, I can conclude that the data does not support my idea. Although I proposed having the option for Tuesdays to be synchronous, the data shows that most students do not feel strongly towards this. The average response, on a scale from 1 (strongly disagree) to 7 (strongly agree), is about a 3 for all three of the questions I analyzed. This indicates that on average, students have a strong opinion towards or against having class be synchronous entirely, but it is leaning towards keeping Tuesdays asynchronous. However, when considering the data calculated from the count function, it appears that for all three questions the most common responses were 1 and 2 (strongly disagree). This is emphasized in the bar chart that illustrates the responses to the all_sync question. Thus, it can be concluded that overall, students feel they would benefit more from having Tuesday as an asynchronous class period. \n",
    "\n",
    "I think the negative impacts of implementing this change could be a strain of time and resources. TAs would have to come to the lecture hall and technical set up would be required in order to show the lesson on the screen. While the students may benefit, TAs and the instructor would have a greater workload added. A trade-off is that students may have easier access to help but they would lose flexibility in being able to work on the lessons at a time that is most convenient for them. Therefore, this plan may not be suitable for all students, especially those that would rather not have a set schedule but rather find times that work best with their routines. \n",
    "\n",
    "I agreee with the validity of the data analysis, as I think students' learning styles differ and having the opportunity to come to class one day of the week and work remotely another day might be a good balance. Instead, I could explore how students' performance actually changes with synchronous and asynchronous classes. Students could take an assessment after learning asynchronously and other students take the same assessment after learning the concepts synchronously. Overall performance can be compared to further test the potential of the idea I analyzed. Another option could be analyzing whether working asynchronously but at the regular class time improves performance in comparison to working asynchronously at flexible times that vary every week. \n",
    "\n"
   ]
  }
 ],
 "metadata": {
  "interpreter": {
   "hash": "aee8b7b246df8f9039afb4144a1f6fd8d2ca17a180786b69acc140d282b71a49"
  },
  "kernelspec": {
   "display_name": "Python 3.10.2 64-bit",
   "language": "python",
   "name": "python3"
  },
  "language_info": {
   "codemirror_mode": {
    "name": "ipython",
    "version": 3
   },
   "file_extension": ".py",
   "mimetype": "text/x-python",
   "name": "python",
   "nbconvert_exporter": "python",
   "pygments_lexer": "ipython3",
   "version": "3.10.1"
  },
  "orig_nbformat": 4
 },
 "nbformat": 4,
 "nbformat_minor": 2
}
